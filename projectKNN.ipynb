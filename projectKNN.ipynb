{
  "nbformat": 4,
  "nbformat_minor": 0,
  "metadata": {
    "colab": {
      "name": "projectKNN.ipynb",
      "provenance": [],
      "collapsed_sections": []
    },
    "kernelspec": {
      "name": "python3",
      "display_name": "Python 3"
    },
    "language_info": {
      "name": "python"
    }
  },
  "cells": [
    {
      "cell_type": "code",
      "execution_count": null,
      "metadata": {
        "id": "BDBYrnEcMliV"
      },
      "outputs": [],
      "source": [
        "from google.colab import drive\n"
      ]
    },
    {
      "cell_type": "code",
      "source": [
        "drive.mount ('/content/drive')"
      ],
      "metadata": {
        "id": "pj_n2AUIMswi",
        "colab": {
          "base_uri": "https://localhost:8080/"
        },
        "outputId": "38fdb5d7-35e3-415b-db97-59ec2dbb4888"
      },
      "execution_count": null,
      "outputs": [
        {
          "output_type": "stream",
          "name": "stdout",
          "text": [
            "Drive already mounted at /content/drive; to attempt to forcibly remount, call drive.mount(\"/content/drive\", force_remount=True).\n"
          ]
        }
      ]
    },
    {
      "cell_type": "code",
      "source": [
        "cd /content/drive/\"MyDrive/machine learning /machine-learning-master\""
      ],
      "metadata": {
        "id": "P4_bGtuWMvp_",
        "colab": {
          "base_uri": "https://localhost:8080/"
        },
        "outputId": "877d2bd8-42fe-44f3-c9e3-c4f9093c2337"
      },
      "execution_count": null,
      "outputs": [
        {
          "output_type": "stream",
          "name": "stdout",
          "text": [
            "/content/drive/MyDrive/machine learning /machine-learning-master\n"
          ]
        }
      ]
    },
    {
      "cell_type": "code",
      "source": [
        "import numpy as np\n",
        "import pandas as pd\n",
        "import matplotlib.pyplot as plt\n",
        "import math\n",
        "from sklearn.metrics import classification_report"
      ],
      "metadata": {
        "id": "WTqoeVC6M509"
      },
      "execution_count": null,
      "outputs": []
    },
    {
      "cell_type": "code",
      "source": [
        "dataset=pd.read_csv(\"predictive_maintenance.csv\")"
      ],
      "metadata": {
        "id": "9K_5RetEM8j0"
      },
      "execution_count": null,
      "outputs": []
    },
    {
      "cell_type": "code",
      "source": [
        "dataset"
      ],
      "metadata": {
        "id": "7mxoVtUnPY65",
        "colab": {
          "base_uri": "https://localhost:8080/",
          "height": 423
        },
        "outputId": "32cf7d00-e756-4fd4-85da-d2923a8f6c5c"
      },
      "execution_count": null,
      "outputs": [
        {
          "output_type": "execute_result",
          "data": {
            "text/plain": [
              "        UDI Product ID Type  Air temperature [K]  Process temperature [K]  \\\n",
              "0         1     M14860    M                298.1                    308.6   \n",
              "1         2     L47181    L                298.2                    308.7   \n",
              "2         3     L47182    L                298.1                    308.5   \n",
              "3         4     L47183    L                298.2                    308.6   \n",
              "4         5     L47184    L                298.2                    308.7   \n",
              "...     ...        ...  ...                  ...                      ...   \n",
              "9995   9996     M24855    M                298.8                    308.4   \n",
              "9996   9997     H39410    H                298.9                    308.4   \n",
              "9997   9998     M24857    M                299.0                    308.6   \n",
              "9998   9999     H39412    H                299.0                    308.7   \n",
              "9999  10000     M24859    M                299.0                    308.7   \n",
              "\n",
              "      Rotational speed [rpm]  Torque [Nm]  Tool wear [min]  Target  \\\n",
              "0                       1551         42.8                0       0   \n",
              "1                       1408         46.3                3       0   \n",
              "2                       1498         49.4                5       0   \n",
              "3                       1433         39.5                7       0   \n",
              "4                       1408         40.0                9       0   \n",
              "...                      ...          ...              ...     ...   \n",
              "9995                    1604         29.5               14       0   \n",
              "9996                    1632         31.8               17       0   \n",
              "9997                    1645         33.4               22       0   \n",
              "9998                    1408         48.5               25       0   \n",
              "9999                    1500         40.2               30       0   \n",
              "\n",
              "     Failure Type  \n",
              "0      No Failure  \n",
              "1      No Failure  \n",
              "2      No Failure  \n",
              "3      No Failure  \n",
              "4      No Failure  \n",
              "...           ...  \n",
              "9995   No Failure  \n",
              "9996   No Failure  \n",
              "9997   No Failure  \n",
              "9998   No Failure  \n",
              "9999   No Failure  \n",
              "\n",
              "[10000 rows x 10 columns]"
            ],
            "text/html": [
              "\n",
              "  <div id=\"df-f4daae82-de00-417e-aec5-64b4f439722d\">\n",
              "    <div class=\"colab-df-container\">\n",
              "      <div>\n",
              "<style scoped>\n",
              "    .dataframe tbody tr th:only-of-type {\n",
              "        vertical-align: middle;\n",
              "    }\n",
              "\n",
              "    .dataframe tbody tr th {\n",
              "        vertical-align: top;\n",
              "    }\n",
              "\n",
              "    .dataframe thead th {\n",
              "        text-align: right;\n",
              "    }\n",
              "</style>\n",
              "<table border=\"1\" class=\"dataframe\">\n",
              "  <thead>\n",
              "    <tr style=\"text-align: right;\">\n",
              "      <th></th>\n",
              "      <th>UDI</th>\n",
              "      <th>Product ID</th>\n",
              "      <th>Type</th>\n",
              "      <th>Air temperature [K]</th>\n",
              "      <th>Process temperature [K]</th>\n",
              "      <th>Rotational speed [rpm]</th>\n",
              "      <th>Torque [Nm]</th>\n",
              "      <th>Tool wear [min]</th>\n",
              "      <th>Target</th>\n",
              "      <th>Failure Type</th>\n",
              "    </tr>\n",
              "  </thead>\n",
              "  <tbody>\n",
              "    <tr>\n",
              "      <th>0</th>\n",
              "      <td>1</td>\n",
              "      <td>M14860</td>\n",
              "      <td>M</td>\n",
              "      <td>298.1</td>\n",
              "      <td>308.6</td>\n",
              "      <td>1551</td>\n",
              "      <td>42.8</td>\n",
              "      <td>0</td>\n",
              "      <td>0</td>\n",
              "      <td>No Failure</td>\n",
              "    </tr>\n",
              "    <tr>\n",
              "      <th>1</th>\n",
              "      <td>2</td>\n",
              "      <td>L47181</td>\n",
              "      <td>L</td>\n",
              "      <td>298.2</td>\n",
              "      <td>308.7</td>\n",
              "      <td>1408</td>\n",
              "      <td>46.3</td>\n",
              "      <td>3</td>\n",
              "      <td>0</td>\n",
              "      <td>No Failure</td>\n",
              "    </tr>\n",
              "    <tr>\n",
              "      <th>2</th>\n",
              "      <td>3</td>\n",
              "      <td>L47182</td>\n",
              "      <td>L</td>\n",
              "      <td>298.1</td>\n",
              "      <td>308.5</td>\n",
              "      <td>1498</td>\n",
              "      <td>49.4</td>\n",
              "      <td>5</td>\n",
              "      <td>0</td>\n",
              "      <td>No Failure</td>\n",
              "    </tr>\n",
              "    <tr>\n",
              "      <th>3</th>\n",
              "      <td>4</td>\n",
              "      <td>L47183</td>\n",
              "      <td>L</td>\n",
              "      <td>298.2</td>\n",
              "      <td>308.6</td>\n",
              "      <td>1433</td>\n",
              "      <td>39.5</td>\n",
              "      <td>7</td>\n",
              "      <td>0</td>\n",
              "      <td>No Failure</td>\n",
              "    </tr>\n",
              "    <tr>\n",
              "      <th>4</th>\n",
              "      <td>5</td>\n",
              "      <td>L47184</td>\n",
              "      <td>L</td>\n",
              "      <td>298.2</td>\n",
              "      <td>308.7</td>\n",
              "      <td>1408</td>\n",
              "      <td>40.0</td>\n",
              "      <td>9</td>\n",
              "      <td>0</td>\n",
              "      <td>No Failure</td>\n",
              "    </tr>\n",
              "    <tr>\n",
              "      <th>...</th>\n",
              "      <td>...</td>\n",
              "      <td>...</td>\n",
              "      <td>...</td>\n",
              "      <td>...</td>\n",
              "      <td>...</td>\n",
              "      <td>...</td>\n",
              "      <td>...</td>\n",
              "      <td>...</td>\n",
              "      <td>...</td>\n",
              "      <td>...</td>\n",
              "    </tr>\n",
              "    <tr>\n",
              "      <th>9995</th>\n",
              "      <td>9996</td>\n",
              "      <td>M24855</td>\n",
              "      <td>M</td>\n",
              "      <td>298.8</td>\n",
              "      <td>308.4</td>\n",
              "      <td>1604</td>\n",
              "      <td>29.5</td>\n",
              "      <td>14</td>\n",
              "      <td>0</td>\n",
              "      <td>No Failure</td>\n",
              "    </tr>\n",
              "    <tr>\n",
              "      <th>9996</th>\n",
              "      <td>9997</td>\n",
              "      <td>H39410</td>\n",
              "      <td>H</td>\n",
              "      <td>298.9</td>\n",
              "      <td>308.4</td>\n",
              "      <td>1632</td>\n",
              "      <td>31.8</td>\n",
              "      <td>17</td>\n",
              "      <td>0</td>\n",
              "      <td>No Failure</td>\n",
              "    </tr>\n",
              "    <tr>\n",
              "      <th>9997</th>\n",
              "      <td>9998</td>\n",
              "      <td>M24857</td>\n",
              "      <td>M</td>\n",
              "      <td>299.0</td>\n",
              "      <td>308.6</td>\n",
              "      <td>1645</td>\n",
              "      <td>33.4</td>\n",
              "      <td>22</td>\n",
              "      <td>0</td>\n",
              "      <td>No Failure</td>\n",
              "    </tr>\n",
              "    <tr>\n",
              "      <th>9998</th>\n",
              "      <td>9999</td>\n",
              "      <td>H39412</td>\n",
              "      <td>H</td>\n",
              "      <td>299.0</td>\n",
              "      <td>308.7</td>\n",
              "      <td>1408</td>\n",
              "      <td>48.5</td>\n",
              "      <td>25</td>\n",
              "      <td>0</td>\n",
              "      <td>No Failure</td>\n",
              "    </tr>\n",
              "    <tr>\n",
              "      <th>9999</th>\n",
              "      <td>10000</td>\n",
              "      <td>M24859</td>\n",
              "      <td>M</td>\n",
              "      <td>299.0</td>\n",
              "      <td>308.7</td>\n",
              "      <td>1500</td>\n",
              "      <td>40.2</td>\n",
              "      <td>30</td>\n",
              "      <td>0</td>\n",
              "      <td>No Failure</td>\n",
              "    </tr>\n",
              "  </tbody>\n",
              "</table>\n",
              "<p>10000 rows × 10 columns</p>\n",
              "</div>\n",
              "      <button class=\"colab-df-convert\" onclick=\"convertToInteractive('df-f4daae82-de00-417e-aec5-64b4f439722d')\"\n",
              "              title=\"Convert this dataframe to an interactive table.\"\n",
              "              style=\"display:none;\">\n",
              "        \n",
              "  <svg xmlns=\"http://www.w3.org/2000/svg\" height=\"24px\"viewBox=\"0 0 24 24\"\n",
              "       width=\"24px\">\n",
              "    <path d=\"M0 0h24v24H0V0z\" fill=\"none\"/>\n",
              "    <path d=\"M18.56 5.44l.94 2.06.94-2.06 2.06-.94-2.06-.94-.94-2.06-.94 2.06-2.06.94zm-11 1L8.5 8.5l.94-2.06 2.06-.94-2.06-.94L8.5 2.5l-.94 2.06-2.06.94zm10 10l.94 2.06.94-2.06 2.06-.94-2.06-.94-.94-2.06-.94 2.06-2.06.94z\"/><path d=\"M17.41 7.96l-1.37-1.37c-.4-.4-.92-.59-1.43-.59-.52 0-1.04.2-1.43.59L10.3 9.45l-7.72 7.72c-.78.78-.78 2.05 0 2.83L4 21.41c.39.39.9.59 1.41.59.51 0 1.02-.2 1.41-.59l7.78-7.78 2.81-2.81c.8-.78.8-2.07 0-2.86zM5.41 20L4 18.59l7.72-7.72 1.47 1.35L5.41 20z\"/>\n",
              "  </svg>\n",
              "      </button>\n",
              "      \n",
              "  <style>\n",
              "    .colab-df-container {\n",
              "      display:flex;\n",
              "      flex-wrap:wrap;\n",
              "      gap: 12px;\n",
              "    }\n",
              "\n",
              "    .colab-df-convert {\n",
              "      background-color: #E8F0FE;\n",
              "      border: none;\n",
              "      border-radius: 50%;\n",
              "      cursor: pointer;\n",
              "      display: none;\n",
              "      fill: #1967D2;\n",
              "      height: 32px;\n",
              "      padding: 0 0 0 0;\n",
              "      width: 32px;\n",
              "    }\n",
              "\n",
              "    .colab-df-convert:hover {\n",
              "      background-color: #E2EBFA;\n",
              "      box-shadow: 0px 1px 2px rgba(60, 64, 67, 0.3), 0px 1px 3px 1px rgba(60, 64, 67, 0.15);\n",
              "      fill: #174EA6;\n",
              "    }\n",
              "\n",
              "    [theme=dark] .colab-df-convert {\n",
              "      background-color: #3B4455;\n",
              "      fill: #D2E3FC;\n",
              "    }\n",
              "\n",
              "    [theme=dark] .colab-df-convert:hover {\n",
              "      background-color: #434B5C;\n",
              "      box-shadow: 0px 1px 3px 1px rgba(0, 0, 0, 0.15);\n",
              "      filter: drop-shadow(0px 1px 2px rgba(0, 0, 0, 0.3));\n",
              "      fill: #FFFFFF;\n",
              "    }\n",
              "  </style>\n",
              "\n",
              "      <script>\n",
              "        const buttonEl =\n",
              "          document.querySelector('#df-f4daae82-de00-417e-aec5-64b4f439722d button.colab-df-convert');\n",
              "        buttonEl.style.display =\n",
              "          google.colab.kernel.accessAllowed ? 'block' : 'none';\n",
              "\n",
              "        async function convertToInteractive(key) {\n",
              "          const element = document.querySelector('#df-f4daae82-de00-417e-aec5-64b4f439722d');\n",
              "          const dataTable =\n",
              "            await google.colab.kernel.invokeFunction('convertToInteractive',\n",
              "                                                     [key], {});\n",
              "          if (!dataTable) return;\n",
              "\n",
              "          const docLinkHtml = 'Like what you see? Visit the ' +\n",
              "            '<a target=\"_blank\" href=https://colab.research.google.com/notebooks/data_table.ipynb>data table notebook</a>'\n",
              "            + ' to learn more about interactive tables.';\n",
              "          element.innerHTML = '';\n",
              "          dataTable['output_type'] = 'display_data';\n",
              "          await google.colab.output.renderOutput(dataTable, element);\n",
              "          const docLink = document.createElement('div');\n",
              "          docLink.innerHTML = docLinkHtml;\n",
              "          element.appendChild(docLink);\n",
              "        }\n",
              "      </script>\n",
              "    </div>\n",
              "  </div>\n",
              "  "
            ]
          },
          "metadata": {},
          "execution_count": 29
        }
      ]
    },
    {
      "cell_type": "code",
      "source": [
        "dataset.shape"
      ],
      "metadata": {
        "id": "MlYQCTIAM_Sy",
        "colab": {
          "base_uri": "https://localhost:8080/"
        },
        "outputId": "a2b531b5-1b61-44fb-8aac-fb5bf872e963"
      },
      "execution_count": null,
      "outputs": [
        {
          "output_type": "execute_result",
          "data": {
            "text/plain": [
              "(10000, 10)"
            ]
          },
          "metadata": {},
          "execution_count": 30
        }
      ]
    },
    {
      "cell_type": "code",
      "source": [
        "#dataf=pd.DataFrame(dataset)\n",
        "#dataf"
      ],
      "metadata": {
        "id": "Wg1cuf9VNu2x"
      },
      "execution_count": null,
      "outputs": []
    },
    {
      "cell_type": "code",
      "source": [
        "#dataf = datafTarget\n",
        "\n",
        "datafTarget=pd.DataFrame(dataset)\n",
        "\n",
        "y = datafTarget[\"Target\"].values\n",
        "datafTarget = pd.read_csv(\"predictive_maintenance.csv\", index_col =\"UDI\" )\n",
        "datafTarget.drop([\"Product ID\",\"Target\"], axis = 1, inplace = True)\n",
        "\n",
        "datafTarget=pd.get_dummies(datafTarget)\n",
        "\n",
        "x = (datafTarget - np.min(datafTarget))/(np.max(datafTarget)-np.min(datafTarget))\n",
        "#over sampling\n",
        "from imblearn.over_sampling import RandomOverSampler\n",
        "rus=RandomOverSampler(sampling_strategy=1)\n",
        "x_res,y_res = rus.fit_resample(x,y)\n",
        "#ax=y_res.value_counts().plot.pie(autopct='%.2f')\n",
        "#_=ax.set_title(\"over sampling\")\n",
        "# train test split\n",
        "from sklearn.model_selection import train_test_split\n",
        "x_train, x_test, y_train, y_test = train_test_split(x_res,y_res,test_size = 0.3,random_state=1)\n",
        "\n",
        "from sklearn.neighbors import KNeighborsClassifier\n",
        "knn = KNeighborsClassifier(n_neighbors = 3) # n_neighbors = k\n",
        "knn.fit(x_train,y_train)\n",
        "prediction = knn.predict(x_test)\n",
        "print(\" score target : {} \".format(knn.score(x_test,y_test)))\n",
        "\n",
        "y_pred = knn.predict(x_test)\n",
        "y_true=y_test\n",
        "\n",
        "#confusion matrix\n",
        "from sklearn.metrics import confusion_matrix\n",
        "\n",
        "cm= confusion_matrix(y_true, y_pred)\n",
        "\n",
        "#cm vizualization\n",
        "\n",
        "import seaborn as sns \n",
        "f, ax =plt.subplots(figsize = (5,5))\n",
        "\n",
        "sns.heatmap(cm,annot = True, linewidths= 0.5, linecolor=\"cyan\", fmt=\".0f\", ax=ax)\n",
        "plt.xlabel(\"y_pred\")\n",
        "plt.ylabel(\"y_true\")\n",
        "plt.show()\n",
        "\n",
        "#performance parameter \n",
        "\n",
        "print(classification_report(y_pred,y_true))"
      ],
      "metadata": {
        "id": "wC7g5E_sgBTP",
        "colab": {
          "base_uri": "https://localhost:8080/",
          "height": 509
        },
        "outputId": "5b4acb47-b510-4adf-9a98-1e16286a539f"
      },
      "execution_count": null,
      "outputs": [
        {
          "output_type": "stream",
          "name": "stdout",
          "text": [
            " score target : 0.9974124547179576 \n"
          ]
        },
        {
          "output_type": "display_data",
          "data": {
            "text/plain": [
              "<Figure size 360x360 with 2 Axes>"
            ],
            "image/png": "[encoded data removed]"
          },
          "metadata": {
            "needs_background": "light"
          }
        },
        {
          "output_type": "stream",
          "name": "stdout",
          "text": [
            "              precision    recall  f1-score   support\n",
            "\n",
            "           0       0.99      1.00      1.00      2927\n",
            "           1       1.00      0.99      1.00      2870\n",
            "\n",
            "    accuracy                           1.00      5797\n",
            "   macro avg       1.00      1.00      1.00      5797\n",
            "weighted avg       1.00      1.00      1.00      5797\n",
            "\n"
          ]
        }
      ]
    },
    {
      "cell_type": "code",
      "source": [
        "#y = dataf[\"Target\"].values\n",
        "datafheat=pd.DataFrame(dataset)\n",
        "\n",
        "\n",
        "datafheat = pd.read_csv(\"predictive_maintenance.csv\", index_col =\"UDI\" )\n",
        "\n",
        "datafheat.drop([\"Product ID\",\"Target\"], axis = 1, inplace = True)\n",
        "datafheat=pd.get_dummies(datafheat)\n",
        "\n",
        "y1 = datafheat[\"Failure Type_Heat Dissipation Failure\"].values\n",
        "x1 = (datafheat - np.min(datafheat))/(np.max(datafheat)-np.min(datafheat))\n",
        "#over sampling\n",
        "from imblearn.over_sampling import RandomOverSampler\n",
        "rus=RandomOverSampler(sampling_strategy=1)\n",
        "x_resh,y_resh = rus.fit_resample(x1,y1)\n",
        "#ax=y_res.value_counts().plot.pie(autopct='%.2f')\n",
        "#_=ax.set_title(\"over sampling\")\n",
        "# train test split\n",
        "from sklearn.model_selection import train_test_split\n",
        "x_train1, x_test1, y_train1, y_test1 = train_test_split(x_resh,y_resh,test_size = 0.3,random_state=1)\n",
        "\n",
        "from sklearn.neighbors import KNeighborsClassifier\n",
        "knn1 = KNeighborsClassifier(n_neighbors = 2) # n_neighbors = k\n",
        "knn1.fit(x_train1,y_train1)\n",
        "prediction1 = knn1.predict(x_test1)\n",
        "print(\" score heat dissiption : {} \".format(knn1.score(x_test1,y_test1)))\n",
        "\n",
        "y_pred1 = knn1.predict(x_test1)\n",
        "y_true1=y_test1\n",
        "\n",
        "#confusion matrix\n",
        "from sklearn.metrics import confusion_matrix\n",
        "\n",
        "cm1= confusion_matrix(y_true1, y_pred1)\n",
        "\n",
        "#cm vizualization\n",
        "\n",
        "import seaborn as sns \n",
        "f, ax =plt.subplots(figsize = (5,5))\n",
        "\n",
        "sns.heatmap(cm,annot = True, linewidths= 0.5, linecolor=\"cyan\", fmt=\".0f\", ax=ax)\n",
        "plt.xlabel(\"y_pred1\")\n",
        "plt.ylabel(\"y_true1\")\n",
        "plt.show()\n",
        "\n",
        "#performance parameter \n",
        "\n",
        "print(classification_report(y_pred1,y_true1))\n"
      ],
      "metadata": {
        "id": "-Zxo0ixcZ12c",
        "colab": {
          "base_uri": "https://localhost:8080/",
          "height": 509
        },
        "outputId": "10ea3038-6d22-47c0-99ee-b68b72c612b7"
      },
      "execution_count": 41,
      "outputs": [
        {
          "output_type": "stream",
          "name": "stdout",
          "text": [
            " score heat dissiption : 1.0 \n"
          ]
        },
        {
          "output_type": "display_data",
          "data": {
            "text/plain": [
              "<Figure size 360x360 with 2 Axes>"
            ],
            "image/png": "[encoded data removed]"
          },
          "metadata": {
            "needs_background": "light"
          }
        },
        {
          "output_type": "stream",
          "name": "stdout",
          "text": [
            "              precision    recall  f1-score   support\n",
            "\n",
            "           0       1.00      1.00      1.00      3005\n",
            "           1       1.00      1.00      1.00      2928\n",
            "\n",
            "    accuracy                           1.00      5933\n",
            "   macro avg       1.00      1.00      1.00      5933\n",
            "weighted avg       1.00      1.00      1.00      5933\n",
            "\n"
          ]
        }
      ]
    },
    {
      "cell_type": "code",
      "source": [
        "#y = dataf[\"Target\"].values\n",
        "datafover=pd.DataFrame(dataset)\n",
        "\n",
        "datafover = pd.read_csv(\"predictive_maintenance.csv\", index_col =\"UDI\")\n",
        "datafover.drop([\"Product ID\",\"Target\"], axis = 1, inplace = True)\n",
        "\n",
        "datafover=pd.get_dummies(datafover)\n",
        "y2 = datafover[\"Failure Type_Overstrain Failure\"].values\n",
        "x2 = (datafover - np.min(datafover))/(np.max(datafover)-np.min(datafover))\n",
        "#oversampling\n",
        "from imblearn.over_sampling import RandomOverSampler\n",
        "rus=RandomOverSampler(sampling_strategy=1)\n",
        "x_resO,y_resO = rus.fit_resample(x2,y2)\n",
        "#ax=y_res.value_counts().plot.pie(autopct='%.2f')\n",
        "#_=ax.set_title(\"over sampling\")\n",
        "# train test split\n",
        "# train test split\n",
        "from sklearn.model_selection import train_test_split\n",
        "x_train2, x_test2, y_train2, y_test2 = train_test_split(x_resO,y_resO,test_size = 0.3,random_state=1)\n",
        "\n",
        "from sklearn.neighbors import KNeighborsClassifier\n",
        "knn2 = KNeighborsClassifier(n_neighbors = 3) # n_neighbors = k\n",
        "knn2.fit(x_train2,y_train2)\n",
        "prediction2 = knn2.predict(x_test2)\n",
        "print(\" score of overstrain : {} \".format(knn.score(x_test2,y_test2)))\n",
        "\n",
        "y_pred2 = knn.predict(x_test2)\n",
        "y_true2 = y_test2\n",
        "\n",
        "#confusion matrix\n",
        "from sklearn.metrics import confusion_matrix\n",
        "\n",
        "cm2= confusion_matrix(y_true2, y_pred2)\n",
        "\n",
        "#cm vizualization\n",
        "\n",
        "import seaborn as sns \n",
        "f, ax =plt.subplots(figsize = (5,5))\n",
        "\n",
        "sns.heatmap(cm,annot = True, linewidths= 0.5, linecolor=\"cyan\", fmt=\".0f\", ax=ax)\n",
        "plt.xlabel(\"y_pred2\")\n",
        "plt.ylabel(\"y_true2\")\n",
        "plt.show()\n",
        "\n",
        "#performance parameter \n",
        "\n",
        "print(classification_report(y_pred2,y_true2))"
      ],
      "metadata": {
        "id": "rzG4EflVOEjs",
        "colab": {
          "base_uri": "https://localhost:8080/",
          "height": 509
        },
        "outputId": "9623e971-cef6-49c2-f18b-2e594dc6ccbf"
      },
      "execution_count": null,
      "outputs": [
        {
          "output_type": "stream",
          "name": "stdout",
          "text": [
            " score of overstrain : 0.9838763856231105 \n"
          ]
        },
        {
          "output_type": "display_data",
          "data": {
            "text/plain": [
              "<Figure size 360x360 with 2 Axes>"
            ],
            "image/png": "[encoded data removed]"
          },
          "metadata": {
            "needs_background": "light"
          }
        },
        {
          "output_type": "stream",
          "name": "stdout",
          "text": [
            "              precision    recall  f1-score   support\n",
            "\n",
            "           0       0.97      1.00      0.98      2915\n",
            "           1       1.00      0.97      0.98      3039\n",
            "\n",
            "    accuracy                           0.98      5954\n",
            "   macro avg       0.98      0.98      0.98      5954\n",
            "weighted avg       0.98      0.98      0.98      5954\n",
            "\n"
          ]
        }
      ]
    },
    {
      "cell_type": "code",
      "source": [
        "#y = dataf[\"Target\"].values\n",
        "datafpower=pd.DataFrame(dataset)\n",
        "\n",
        "datafpower = pd.read_csv(\"predictive_maintenance.csv\", index_col =\"UDI\" )\n",
        "datafpower.drop([\"Product ID\",\"Target\"], axis = 1, inplace = True)\n",
        "\n",
        "datafpower=pd.get_dummies(datafpower)\n",
        "y3 = datafpower[\"Failure Type_Power Failure\"].values\n",
        "x3 = (datafpower - np.min(datafpower))/(np.max(datafpower)-np.min(datafpower))\n",
        "#oversampling\n",
        "from imblearn.over_sampling import RandomOverSampler\n",
        "rus=RandomOverSampler(sampling_strategy=1)\n",
        "x_resp,y_resp = rus.fit_resample(x3,y3)\n",
        "#ax=y_res.value_counts().plot.pie(autopct='%.2f')\n",
        "#_=ax.set_title(\"over sampling\")\n",
        "# train test split\n",
        "from sklearn.model_selection import train_test_split\n",
        "x_train3, x_test3, y_train3, y_test3 = train_test_split(x_resp,y_resp,test_size = 0.3,random_state=1)\n",
        "\n",
        "from sklearn.neighbors import KNeighborsClassifier\n",
        "knn = KNeighborsClassifier(n_neighbors = 3) # n_neighbors = k\n",
        "knn.fit(x_train3,y_train3)\n",
        "prediction3 = knn.predict(x_test3)\n",
        "print(\" score of power failure : {} \".format(knn.score(x_test3,y_test3)))\n",
        "\n",
        "y_pred3 = knn.predict(x_test3)\n",
        "y_true3 = y_test3\n",
        "\n",
        "#confusion matrix\n",
        "from sklearn.metrics import confusion_matrix\n",
        "\n",
        "cm3= confusion_matrix(y_true3, y_pred3)\n",
        "\n",
        "#cm vizualization\n",
        "\n",
        "import seaborn as sns \n",
        "f, ax =plt.subplots(figsize = (5,5))\n",
        "\n",
        "sns.heatmap(cm,annot = True, linewidths= 0.5, linecolor=\"cyan\", fmt=\".0f\", ax=ax)\n",
        "plt.xlabel(\"y_pred3\")\n",
        "plt.ylabel(\"y_true3\")\n",
        "plt.show()\n",
        "\n",
        "#performance parameter \n",
        "\n",
        "print(classification_report(y_pred3,y_true3))"
      ],
      "metadata": {
        "id": "aZshRmKGshoh",
        "colab": {
          "base_uri": "https://localhost:8080/",
          "height": 509
        },
        "outputId": "17311207-51b0-47cd-cb4c-75b8905936b5"
      },
      "execution_count": null,
      "outputs": [
        {
          "output_type": "stream",
          "name": "stdout",
          "text": [
            " score of power failure : 1.0 \n"
          ]
        },
        {
          "output_type": "display_data",
          "data": {
            "text/plain": [
              "<Figure size 360x360 with 2 Axes>"
            ],
            "image/png": "[encoded data removed]"
          },
          "metadata": {
            "needs_background": "light"
          }
        },
        {
          "output_type": "stream",
          "name": "stdout",
          "text": [
            "              precision    recall  f1-score   support\n",
            "\n",
            "           0       1.00      1.00      1.00      3008\n",
            "           1       1.00      1.00      1.00      2935\n",
            "\n",
            "    accuracy                           1.00      5943\n",
            "   macro avg       1.00      1.00      1.00      5943\n",
            "weighted avg       1.00      1.00      1.00      5943\n",
            "\n"
          ]
        }
      ]
    },
    {
      "cell_type": "code",
      "source": [
        "#y = dataf[\"Target\"].values\n",
        "datafran=pd.DataFrame(dataset)\n",
        "\n",
        "\n",
        "datafran = pd.read_csv(\"predictive_maintenance.csv\", index_col =\"UDI\" )\n",
        "datafran.drop([\"Product ID\",\"Target\"], axis = 1, inplace = True)\n",
        "\n",
        "datafran=pd.get_dummies(datafran)\n",
        "\n",
        "y4 = datafran[\"Failure Type_Random Failures\"].values\n",
        "x4 = (datafran - np.min(datafran))/(np.max(datafran)-np.min(datafran))\n",
        "#oversampling\n",
        "from imblearn.over_sampling import RandomOverSampler\n",
        "rus=RandomOverSampler(sampling_strategy=1)\n",
        "x_resr,y_resr = rus.fit_resample(x4,y4)\n",
        "#ax=y_res.value_counts().plot.pie(autopct='%.2f')\n",
        "#_=ax.set_title(\"over sampling\")\n",
        "# train test split\n",
        "from sklearn.model_selection import train_test_split\n",
        "x_train4, x_test4, y_train4, y_test4 = train_test_split(x_resr,y_resr,test_size = 0.3,random_state=1)\n",
        "\n",
        "from sklearn.neighbors import KNeighborsClassifier\n",
        "knn4 = KNeighborsClassifier(n_neighbors = 3) # n_neighbors = k\n",
        "knn4.fit(x_train4,y_train4)\n",
        "prediction4 = knn4.predict(x_test4)\n",
        "print(\" score of random failure : {} \".format(knn4.score(x_test4,y_test4)))\n",
        "\n",
        "y_pred4 = knn4.predict(x_test4)\n",
        "y_true4 = y_test4\n",
        "\n",
        "#confusion matrix\n",
        "from sklearn.metrics import confusion_matrix\n",
        "\n",
        "cm3= confusion_matrix(y_true4, y_pred4)\n",
        "\n",
        "#cm vizualization\n",
        "\n",
        "import seaborn as sns \n",
        "f, ax =plt.subplots(figsize = (5,5))\n",
        "\n",
        "sns.heatmap(cm,annot = True, linewidths= 0.5, linecolor=\"cyan\", fmt=\".0f\", ax=ax)\n",
        "plt.xlabel(\"y_pred4\")\n",
        "plt.ylabel(\"y_true4\")\n",
        "plt.show()\n",
        "\n",
        "#performance parameter \n",
        "\n",
        "print(classification_report(y_pred4,y_true4))"
      ],
      "metadata": {
        "id": "slJZeaMft0Bo",
        "colab": {
          "base_uri": "https://localhost:8080/",
          "height": 509
        },
        "outputId": "1b4a31c5-4083-4b59-b96e-f1575368e2d5"
      },
      "execution_count": null,
      "outputs": [
        {
          "output_type": "stream",
          "name": "stdout",
          "text": [
            " score of random failure : 1.0 \n"
          ]
        },
        {
          "output_type": "display_data",
          "data": {
            "text/plain": [
              "<Figure size 360x360 with 2 Axes>"
            ],
            "image/png": "[encoded data removed]"
          },
          "metadata": {
            "needs_background": "light"
          }
        },
        {
          "output_type": "stream",
          "name": "stdout",
          "text": [
            "              precision    recall  f1-score   support\n",
            "\n",
            "           0       1.00      1.00      1.00      3043\n",
            "           1       1.00      1.00      1.00      2947\n",
            "\n",
            "    accuracy                           1.00      5990\n",
            "   macro avg       1.00      1.00      1.00      5990\n",
            "weighted avg       1.00      1.00      1.00      5990\n",
            "\n"
          ]
        }
      ]
    },
    {
      "cell_type": "code",
      "source": [
        "#y = dataf[\"Target\"].values\n",
        "dataftool=pd.DataFrame(dataset)\n",
        "\n",
        "dataftool = pd.read_csv(\"predictive_maintenance.csv\", index_col =\"UDI\" )\n",
        "dataftool.drop([\"Product ID\",\"Target\"], axis = 1, inplace = True)\n",
        "\n",
        "dataftool=pd.get_dummies(dataftool)\n",
        "y5 = dataftool[\"Failure Type_Tool Wear Failure\"].values\n",
        "x5 = (dataftool- np.min(dataftool))/(np.max(dataftool)-np.min(dataftool))\n",
        "#over sampling\n",
        "from imblearn.over_sampling import RandomOverSampler\n",
        "rus=RandomOverSampler(sampling_strategy=1)\n",
        "x_rest,y_rest = rus.fit_resample(x5,y5)\n",
        "#ax=y_res.value_counts().plot.pie(autopct='%.2f')\n",
        "#_=ax.set_title(\"over sampling\")\n",
        "# train test split\n",
        "from sklearn.model_selection import train_test_split\n",
        "x_train4, x_test4, y_train4, y_test4 = train_test_split(x_rest,y_rest,test_size = 0.3,random_state=1)\n",
        "# train test split\n",
        "from sklearn.model_selection import train_test_split\n",
        "x_train5, x_test5, y_train5, y_test5 = train_test_split(x5,y5,test_size = 0.3,random_state=1)\n",
        "\n",
        "from sklearn.neighbors import KNeighborsClassifier\n",
        "knn5 = KNeighborsClassifier(n_neighbors = 3) # n_neighbors = k\n",
        "knn5.fit(x_train5,y_train5)\n",
        "prediction4 = knn5.predict(x_test5)\n",
        "print(\" score of tool wear failure : {} \".format(knn4.score(x_test5,y_test5)))\n",
        "\n",
        "y_pred5 = knn5.predict(x_test5)\n",
        "y_true5 = y_test5\n",
        "\n",
        "#confusion matrix\n",
        "from sklearn.metrics import confusion_matrix\n",
        "\n",
        "cm5= confusion_matrix(y_true5, y_pred5)\n",
        "\n",
        "#cm vizualization\n",
        "\n",
        "import seaborn as sns \n",
        "f, ax =plt.subplots(figsize = (5,5))\n",
        "\n",
        "sns.heatmap(cm,annot = True, linewidths= 0.5, linecolor=\"cyan\", fmt=\".0f\", ax=ax)\n",
        "plt.xlabel(\"y_pred5\")\n",
        "plt.ylabel(\"y_true5\")\n",
        "plt.show()\n",
        "\n",
        "#performance parameter \n",
        "\n",
        "print(classification_report(y_pred5,y_true5))"
      ],
      "metadata": {
        "id": "g9T08ofTvNe3",
        "colab": {
          "base_uri": "https://localhost:8080/",
          "height": 509
        },
        "outputId": "6173e248-38e8-4848-e2c1-26cf140556e5"
      },
      "execution_count": 42,
      "outputs": [
        {
          "output_type": "stream",
          "name": "stdout",
          "text": [
            " score of tool wear failure : 0.9936666666666667 \n"
          ]
        },
        {
          "output_type": "display_data",
          "data": {
            "text/plain": [
              "<Figure size 360x360 with 2 Axes>"
            ],
            "image/png": "[encoded data removed]"
          },
          "metadata": {
            "needs_background": "light"
          }
        },
        {
          "output_type": "stream",
          "name": "stdout",
          "text": [
            "              precision    recall  f1-score   support\n",
            "\n",
            "           0       1.00      1.00      1.00      2989\n",
            "           1       1.00      1.00      1.00        11\n",
            "\n",
            "    accuracy                           1.00      3000\n",
            "   macro avg       1.00      1.00      1.00      3000\n",
            "weighted avg       1.00      1.00      1.00      3000\n",
            "\n"
          ]
        }
      ]
    },
    {
      "cell_type": "code",
      "source": [
        ""
      ],
      "metadata": {
        "id": "9v5G0oqEyMwu"
      },
      "execution_count": null,
      "outputs": []
    },
    {
      "cell_type": "code",
      "source": [
        ""
      ],
      "metadata": {
        "id": "2vWfYUbrzTw7"
      },
      "execution_count": null,
      "outputs": []
    }
  ]
}
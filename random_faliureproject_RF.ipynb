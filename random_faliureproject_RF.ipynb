{
  "nbformat": 4,
  "nbformat_minor": 0,
  "metadata": {
    "colab": {
      "name": "random_faliureproject RF.ipynb",
      "private_outputs": true,
      "provenance": []
    },
    "kernelspec": {
      "name": "python3",
      "display_name": "Python 3"
    },
    "language_info": {
      "name": "python"
    }
  },
  "cells": [
    {
      "cell_type": "code",
      "execution_count": null,
      "metadata": {
        "id": "34PNrzh8-V9G"
      },
      "outputs": [],
      "source": [
        "from google.colab import drive"
      ]
    },
    {
      "cell_type": "code",
      "source": [
        "drive.mount ('/content/drive')"
      ],
      "metadata": {
        "id": "PnwY7oOg-YpV"
      },
      "execution_count": null,
      "outputs": []
    },
    {
      "cell_type": "code",
      "source": [
        "cd /content/drive/\"MyDrive/machine learning /machine-learning-master\""
      ],
      "metadata": {
        "id": "c5n2Dl5x-g1W"
      },
      "execution_count": null,
      "outputs": []
    },
    {
      "cell_type": "code",
      "source": [
        "\n",
        "\n",
        "import numpy as np\n",
        "import pandas as pd\n",
        "\n",
        "import matplotlib.pyplot as plt\n"
      ],
      "metadata": {
        "id": "aGd6fjZl-pKT"
      },
      "execution_count": null,
      "outputs": []
    },
    {
      "cell_type": "code",
      "source": [
        "\n",
        "dataset = pd.read_csv(\"predictive_maintenance.csv\")\n"
      ],
      "metadata": {
        "id": "xW7_2Hly-sfA"
      },
      "execution_count": null,
      "outputs": []
    },
    {
      "cell_type": "code",
      "source": [
        "dataset"
      ],
      "metadata": {
        "id": "8l_6x_Qn-vX3"
      },
      "execution_count": null,
      "outputs": []
    },
    {
      "cell_type": "code",
      "source": [
        "type(dataset)"
      ],
      "metadata": {
        "id": "Ryd8ZtHH-ySs"
      },
      "execution_count": null,
      "outputs": []
    },
    {
      "cell_type": "code",
      "source": [
        "dataf=pd.DataFrame(dataset)"
      ],
      "metadata": {
        "id": "nyGlDnb6-4KD"
      },
      "execution_count": null,
      "outputs": []
    },
    {
      "cell_type": "code",
      "source": [
        "dataf.describe()"
      ],
      "metadata": {
        "id": "UAii7Mm9-7CX"
      },
      "execution_count": null,
      "outputs": []
    },
    {
      "cell_type": "code",
      "source": [
        "Air_temperature_value=dataf.iloc[0:10000,3:4]\n",
        "Process_temperature_value=dataf.iloc[0:10000,4:5]\n",
        "Rotational_speed_value=dataf.iloc[0:10000,5:6]\n",
        "Torque_value=dataf.iloc[0:10000,6:7]\n",
        "Tool_wear_value=dataf.iloc[0:10000,7:8]\n",
        "Target_value=dataf.iloc[0:10000,8:9]"
      ],
      "metadata": {
        "id": "NbK6PV_2-9dF"
      },
      "execution_count": null,
      "outputs": []
    },
    {
      "cell_type": "code",
      "source": [
        "Air_temperature_value"
      ],
      "metadata": {
        "id": "UoPucaL6_Aqy"
      },
      "execution_count": null,
      "outputs": []
    },
    {
      "cell_type": "code",
      "source": [
        "Process_temperature_value"
      ],
      "metadata": {
        "id": "ngZk5eeG_Pdg"
      },
      "execution_count": null,
      "outputs": []
    },
    {
      "cell_type": "code",
      "source": [
        "\n",
        "\n",
        "Rotational_speed_value"
      ],
      "metadata": {
        "id": "PoVZeqdJx8Y2"
      },
      "execution_count": null,
      "outputs": []
    },
    {
      "cell_type": "code",
      "source": [
        "Torque_value"
      ],
      "metadata": {
        "id": "fZqmzy-wyCI_"
      },
      "execution_count": null,
      "outputs": []
    },
    {
      "cell_type": "code",
      "source": [
        "Tool_wear_value"
      ],
      "metadata": {
        "id": "mrG0-8OFyHWy"
      },
      "execution_count": null,
      "outputs": []
    },
    {
      "cell_type": "code",
      "source": [
        "Target_value"
      ],
      "metadata": {
        "id": "UK0TlsytyTid"
      },
      "execution_count": null,
      "outputs": []
    },
    {
      "cell_type": "code",
      "source": [
        "dataf = pd.read_csv(\"predictive_maintenance.csv\", index_col =\"UDI\" )\n",
        "dataf.drop([\"Product ID\"], axis = 1, inplace = True)\n",
        "\n",
        "dataf"
      ],
      "metadata": {
        "id": "43elMBN-_mLp"
      },
      "execution_count": null,
      "outputs": []
    },
    {
      "cell_type": "code",
      "source": [
        "dataf=pd.get_dummies(dataf)\n",
        "dataf"
      ],
      "metadata": {
        "id": "v7wlT1yCA2Zm"
      },
      "execution_count": null,
      "outputs": []
    },
    {
      "cell_type": "code",
      "source": [
        "\n",
        "dataf.shape"
      ],
      "metadata": {
        "id": "OaBaj4P3BKlG"
      },
      "execution_count": null,
      "outputs": []
    },
    {
      "cell_type": "code",
      "source": [
        "labels=np.array(dataf['Failure Type_Random Failures'])"
      ],
      "metadata": {
        "id": "xBw254XNCeid"
      },
      "execution_count": null,
      "outputs": []
    },
    {
      "cell_type": "code",
      "source": [
        "dataf=dataf.drop('Failure Type_Random Failures',axis=1)"
      ],
      "metadata": {
        "id": "10aiwFbETU4I"
      },
      "execution_count": null,
      "outputs": []
    },
    {
      "cell_type": "code",
      "source": [
        "labels"
      ],
      "metadata": {
        "id": "9Hi-4EavC7EE"
      },
      "execution_count": null,
      "outputs": []
    },
    {
      "cell_type": "code",
      "source": [
        "dataf"
      ],
      "metadata": {
        "id": "C_EyCRSdDQL5"
      },
      "execution_count": null,
      "outputs": []
    },
    {
      "cell_type": "code",
      "source": [
        "dataf_list=list(dataf.columns)\n",
        "dataf=np.array(dataf)"
      ],
      "metadata": {
        "id": "Q0h_JvUTDS0o"
      },
      "execution_count": null,
      "outputs": []
    },
    {
      "cell_type": "code",
      "source": [
        "\n",
        "dataf"
      ],
      "metadata": {
        "id": "hQGWS4PJEDhI"
      },
      "execution_count": null,
      "outputs": []
    },
    {
      "cell_type": "code",
      "source": [
        "\n",
        "dataf_list"
      ],
      "metadata": {
        "id": "Wtv2CyXGEfgV"
      },
      "execution_count": null,
      "outputs": []
    },
    {
      "cell_type": "code",
      "source": [
        "from sklearn.model_selection import train_test_split"
      ],
      "metadata": {
        "id": "CAfoC51MEiPx"
      },
      "execution_count": null,
      "outputs": []
    },
    {
      "cell_type": "code",
      "source": [
        "\n",
        "\n",
        "\n",
        "train_dataf,test_dataf,train_labels,test_labels=train_test_split(dataf,labels,test_size=0.25,random_state=42)"
      ],
      "metadata": {
        "id": "XOmJcxhQFbIK"
      },
      "execution_count": null,
      "outputs": []
    },
    {
      "cell_type": "code",
      "source": [
        "test_labels.shape"
      ],
      "metadata": {
        "id": "BAbnVAdkGEBQ"
      },
      "execution_count": null,
      "outputs": []
    },
    {
      "cell_type": "code",
      "source": [
        "test_dataf.shape"
      ],
      "metadata": {
        "id": "dllxqRMcsRBv"
      },
      "execution_count": null,
      "outputs": []
    },
    {
      "cell_type": "code",
      "source": [
        "\n",
        "\n",
        "\n",
        "from sklearn.ensemble import RandomForestRegressor"
      ],
      "metadata": {
        "id": "wvZwO8zmGTSx"
      },
      "execution_count": null,
      "outputs": []
    },
    {
      "cell_type": "code",
      "source": [
        "\n",
        "rf=RandomForestRegressor(n_estimators=1000,random_state=42)"
      ],
      "metadata": {
        "id": "2Ky6z4mxJpdg"
      },
      "execution_count": null,
      "outputs": []
    },
    {
      "cell_type": "code",
      "source": [
        "\n",
        "rf.fit(train_dataf,train_labels) "
      ],
      "metadata": {
        "id": "6XIzUkIRMdVs"
      },
      "execution_count": null,
      "outputs": []
    },
    {
      "cell_type": "code",
      "source": [
        "predections=rf.predict(test_dataf)"
      ],
      "metadata": {
        "id": "t2YeJM_DNtDA"
      },
      "execution_count": null,
      "outputs": []
    },
    {
      "cell_type": "code",
      "source": [
        "test_labels.shape"
      ],
      "metadata": {
        "id": "Kf413YncPSiL"
      },
      "execution_count": null,
      "outputs": []
    },
    {
      "cell_type": "code",
      "source": [
        "\n",
        "\n",
        "\n",
        "predections"
      ],
      "metadata": {
        "id": "r1rnOpTi6Rxt"
      },
      "execution_count": null,
      "outputs": []
    },
    {
      "cell_type": "code",
      "source": [
        "new_predections = predections.astype(int)\n",
        "print(new_predections)"
      ],
      "metadata": {
        "id": "6U6IA53atvqm"
      },
      "execution_count": null,
      "outputs": []
    },
    {
      "cell_type": "code",
      "source": [
        "\n",
        "new_predections.reshape(-1, 1)"
      ],
      "metadata": {
        "id": "Pcl4EFbnvmiq"
      },
      "execution_count": null,
      "outputs": []
    },
    {
      "cell_type": "markdown",
      "source": [
        "\n",
        "add loop to compare and find the error \n"
      ],
      "metadata": {
        "id": "ao-VjoQw6UIg"
      }
    },
    {
      "cell_type": "code",
      "source": [
        "new_predections.shape"
      ],
      "metadata": {
        "id": "d39lZF6hyoXM"
      },
      "execution_count": null,
      "outputs": []
    },
    {
      "cell_type": "markdown",
      "source": [
        ""
      ],
      "metadata": {
        "id": "Z4vIPqn37OZ3"
      }
    },
    {
      "cell_type": "code",
      "source": [
        "test_labels"
      ],
      "metadata": {
        "id": "fdhaFLAMzXHM"
      },
      "execution_count": null,
      "outputs": []
    },
    {
      "cell_type": "code",
      "source": [
        "new_test_labels =test_labels.astype(int)\n",
        "print(new_test_labels)"
      ],
      "metadata": {
        "id": "spA8JpmbvGjH"
      },
      "execution_count": null,
      "outputs": []
    },
    {
      "cell_type": "code",
      "source": [
        "new_test_labels.reshape(-1, 1)"
      ],
      "metadata": {
        "id": "zdao7OkAv6PG"
      },
      "execution_count": null,
      "outputs": []
    },
    {
      "cell_type": "code",
      "source": [
        "from sklearn.metrics import accuracy_score\n",
        "print(\" score of random failure : {} \".format(accuracy_score(new_test_labels, new_predections)))"
      ],
      "metadata": {
        "id": "jwrbZwi-xRpM"
      },
      "execution_count": null,
      "outputs": []
    },
    {
      "cell_type": "code",
      "source": [
        ""
      ],
      "metadata": {
        "id": "OIgJuYGv0u44"
      },
      "execution_count": null,
      "outputs": []
    },
    {
      "cell_type": "code",
      "source": [
        ""
      ],
      "metadata": {
        "id": "LXFZKWpKkjD7"
      },
      "execution_count": null,
      "outputs": []
    }
  ]
}